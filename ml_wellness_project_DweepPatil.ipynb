{
 "cells": [
  {
   "cell_type": "markdown",
   "id": "591758cb",
   "metadata": {},
   "source": [
    "## Phase 1: Technical Proof-of-Concept"
   ]
  },
  {
   "cell_type": "markdown",
   "id": "0247bd54",
   "metadata": {},
   "source": [
    "### Q1: Synthetic Data Design & Insights"
   ]
  },
  {
   "cell_type": "markdown",
   "id": "9a98a6d7",
   "metadata": {},
   "source": [
    "\n",
    "**Features Chosen**:\n",
    "- `daily_steps`: Reflects physical activity which influences stress and mood.\n",
    "- `sleep_hours`: Core factor in wellness; linked to mood and stress.\n",
    "- `stress_level`: Captures overall psychological well-being.\n",
    "- `mood_score`: Primary output to be predicted.\n",
    "- `diet_quality`: Categorical input affecting wellness.\n",
    "\n",
    "**Realism & Assumptions**:\n",
    "- People with more sleep and steps tend to be less stressed.\n",
    "- Mood improves with more sleep, physical activity, and good diet.\n",
    "- Diet is randomly assigned with real-world-like distribution.\n",
    "\n",
    "**Visual Insights**:\n",
    "Below are key visualizations:\n"
   ]
  },
  {
   "cell_type": "code",
   "execution_count": null,
   "id": "3023e015",
   "metadata": {},
   "outputs": [],
   "source": [
    "import pandas as pd\n",
    "import matplotlib.pyplot as plt\n",
    "import seaborn as sns\n",
    "\n",
    "sns.set(style='whitegrid')\n",
    "\n",
    "df = pd.read_csv('synthetic_wellness_data.csv')\n",
    "df.head()"
   ]
  },
  {
   "cell_type": "code",
   "execution_count": null,
   "id": "a83c9ca3",
   "metadata": {},
   "outputs": [],
   "source": [
    "from IPython.display import Image, display\n",
    "\n",
    "# Display visuals\n",
    "print(\"Sleep vs Mood\")\n",
    "display(Image(filename='sleep_vs_mood.png'))\n",
    "print(\"\\nMood Score Distribution\")\n",
    "display(Image(filename='mood_distribution.png'))"
   ]
  },
  {
   "cell_type": "markdown",
   "id": "f4d672ac",
   "metadata": {},
   "source": [
    "### Q2: Model Selection & Justification"
   ]
  },
  {
   "cell_type": "markdown",
   "id": "db02f32a",
   "metadata": {},
   "source": [
    "\n",
    "**Problem**: Predicting `mood_score` based on other wellness features.\n",
    "\n",
    "**Model Used**: Linear Regression.\n",
    "\n",
    "**Justification**:\n",
    "- Simple, interpretable, and suitable for continuous outputs.\n",
    "- Fast to train and explainable.\n",
    "- Assumes linear relation (acceptable for proof-of-concept).\n"
   ]
  },
  {
   "cell_type": "code",
   "execution_count": null,
   "id": "b8157c9e",
   "metadata": {},
   "outputs": [],
   "source": [
    "\n",
    "from sklearn.model_selection import train_test_split\n",
    "from sklearn.linear_model import LinearRegression\n",
    "from sklearn.metrics import mean_squared_error\n",
    "\n",
    "# Encode diet\n",
    "df_encoded = pd.get_dummies(df, columns=['diet_quality'], drop_first=True)\n",
    "\n",
    "X = df_encoded.drop('mood_score', axis=1)\n",
    "y = df_encoded['mood_score']\n",
    "\n",
    "X_train, X_test, y_train, y_test = train_test_split(X, y, test_size=0.2, random_state=42)\n",
    "\n",
    "model = LinearRegression()\n",
    "model.fit(X_train, y_train)\n",
    "predictions = model.predict(X_test)\n",
    "rmse = mean_squared_error(y_test, predictions, squared=False)\n",
    "rmse\n"
   ]
  },
  {
   "cell_type": "markdown",
   "id": "3acaad5b",
   "metadata": {},
   "source": [
    "### Q3: Evaluation Strategy"
   ]
  },
  {
   "cell_type": "markdown",
   "id": "c8acbccf",
   "metadata": {},
   "source": [
    "\n",
    "**Metric Used**: RMSE (Root Mean Squared Error) – appropriate for continuous targets.\n",
    "\n",
    "**Validation**: Performed an 80-20 train-test split. Could use k-fold cross-validation for robustness.\n",
    "\n",
    "**Future Refinements**:\n",
    "- Try non-linear models (e.g., Random Forest).\n",
    "- Feature engineering (e.g., interaction terms).\n",
    "- Normalize data and test regularized regression.\n"
   ]
  },
  {
   "cell_type": "markdown",
   "id": "8b97bf8b",
   "metadata": {},
   "source": [
    "## Phase 2: Impact & Reflection"
   ]
  },
  {
   "cell_type": "markdown",
   "id": "ac79d3fb",
   "metadata": {},
   "source": [
    "### Q4: Real-World Impact & Considerations"
   ]
  },
  {
   "cell_type": "markdown",
   "id": "769c873c",
   "metadata": {},
   "source": [
    "\n",
    "**Potential Value**:\n",
    "- Personalized health insights.\n",
    "- Suggests routines to improve mood or reduce stress.\n",
    "- Alerts for low activity or poor sleep patterns.\n",
    "\n",
    "**Ethical Concerns**:\n",
    "- Data privacy risks.\n",
    "- Biased training data could cause unfair suggestions.\n",
    "- Over-dependence on AI for health decisions.\n"
   ]
  },
  {
   "cell_type": "markdown",
   "id": "ac01db21",
   "metadata": {},
   "source": [
    "### Q5: Challenges & Growth"
   ]
  },
  {
   "cell_type": "markdown",
   "id": "404ec559",
   "metadata": {},
   "source": [
    "\n",
    "**Challenge Faced**:\n",
    "- Balancing realism and simplicity while generating synthetic data.\n",
    "\n",
    "**How I Overcame It**:\n",
    "- Used statistical rules and logical correlations to simulate behaviors.\n",
    "\n",
    "**What I Learned**:\n",
    "- Importance of thoughtful feature design.\n",
    "- ML is not just about modeling but storytelling through data.\n"
   ]
  }
 ],
 "metadata": {},
 "nbformat": 4,
 "nbformat_minor": 5
}